{
  "nbformat": 4,
  "nbformat_minor": 0,
  "metadata": {
    "colab": {
      "name": "April2021 autoencode_digits.ipynb",
      "provenance": [],
      "authorship_tag": "ABX9TyM2LkPOC+4MbrNHde5R+9nK",
      "include_colab_link": true
    },
    "kernelspec": {
      "name": "python3",
      "display_name": "Python 3"
    },
    "accelerator": "GPU"
  },
  "cells": [
    {
      "cell_type": "markdown",
      "metadata": {
        "id": "view-in-github",
        "colab_type": "text"
      },
      "source": [
        "<a href=\"https://colab.research.google.com/github/fedhere/MLPNS2021/blob/main/NNDL/April2021_autoencode_digits.ipynb\" target=\"_parent\"><img src=\"https://colab.research.google.com/assets/colab-badge.svg\" alt=\"Open In Colab\"/></a>"
      ]
    },
    {
      "cell_type": "code",
      "metadata": {
        "id": "d4Hqug0lfaG9",
        "colab": {
          "base_uri": "https://localhost:8080/",
          "height": 50
        },
        "outputId": "37f1a85c-d320-4c66-cbaa-7308b0a9554c"
      },
      "source": [
        "import keras\n",
        "from keras.datasets import mnist\n",
        "from keras.models import Sequential\n",
        "from keras.layers import Dense#, Dropout, Flatten\n",
        "#from keras.layers import Conv2D, MaxPooling2D\n",
        "from keras import backend as K\n",
        "import glob\n",
        "import pylab as pl\n",
        "from PIL import Image\n",
        "\n",
        "%pylab inline\n"
      ],
      "execution_count": null,
      "outputs": [
        {
          "output_type": "stream",
          "text": [
            "Using TensorFlow backend.\n"
          ],
          "name": "stderr"
        },
        {
          "output_type": "stream",
          "text": [
            "Populating the interactive namespace from numpy and matplotlib\n"
          ],
          "name": "stdout"
        }
      ]
    },
    {
      "cell_type": "markdown",
      "metadata": {
        "id": "u8mW27gnf7U4"
      },
      "source": [
        "# 1. change kernel to GPU \n",
        "go to runtime -> change runtime type -> GPU"
      ]
    },
    {
      "cell_type": "markdown",
      "metadata": {
        "id": "fPgi-4gMgRTo"
      },
      "source": [
        "# digits first"
      ]
    },
    {
      "cell_type": "code",
      "metadata": {
        "id": "u3UsLpN7gRJy",
        "colab": {
          "base_uri": "https://localhost:8080/",
          "height": 296
        },
        "outputId": "025d8b87-7388-483c-accf-5a122493a3e8"
      },
      "source": [
        "from keras.datasets import mnist\n",
        "(x_train, _), (x_test, _) = mnist.load_data()\n",
        "\n",
        "img_rows, img_cols = 28, 28\n",
        "pl.imshow(x_train[0])\n",
        "pl.axis('off')\n",
        "intialshape = x_train[0].shape\n",
        "ndim = np.prod(x_train[0].shape)\n",
        "x_train.shape"
      ],
      "execution_count": null,
      "outputs": [
        {
          "output_type": "stream",
          "text": [
            "Downloading data from https://s3.amazonaws.com/img-datasets/mnist.npz\n",
            "11493376/11490434 [==============================] - 1s 0us/step\n"
          ],
          "name": "stdout"
        },
        {
          "output_type": "execute_result",
          "data": {
            "text/plain": [
              "(60000, 28, 28)"
            ]
          },
          "metadata": {
            "tags": []
          },
          "execution_count": 3
        },
        {
          "output_type": "display_data",
          "data": {
            "image/png": "[encoded data removed]",
            "text/plain": [
              "<Figure size 432x288 with 1 Axes>"
            ]
          },
          "metadata": {
            "tags": [],
            "needs_background": "light"
          }
        }
      ]
    },
    {
      "cell_type": "code",
      "metadata": {
        "id": "1kgzSExkgQ9Q",
        "colab": {
          "base_uri": "https://localhost:8080/",
          "height": 33
        },
        "outputId": "5e2bf863-4487-4407-952d-bdbacf4ee175"
      },
      "source": [
        "x_train.dtype, x_train.max(), x_train.min()\n"
      ],
      "execution_count": null,
      "outputs": [
        {
          "output_type": "execute_result",
          "data": {
            "text/plain": [
              "(dtype('uint8'), 255, 0)"
            ]
          },
          "metadata": {
            "tags": []
          },
          "execution_count": 4
        }
      ]
    },
    {
      "cell_type": "code",
      "metadata": {
        "id": "9KhWi6TGhdv1",
        "colab": {
          "base_uri": "https://localhost:8080/",
          "height": 33
        },
        "outputId": "993653e8-957d-4917-b669-1cd17520309f"
      },
      "source": [
        "x_train = (x_train.astype(float) / 255).reshape(len(x_train), ndim)\n",
        "x_test = (x_test.astype(float) / 255).reshape(len(x_test), ndim)\n",
        "x_train.shape, x_test.shape"
      ],
      "execution_count": null,
      "outputs": [
        {
          "output_type": "execute_result",
          "data": {
            "text/plain": [
              "((60000, 784), (10000, 784))"
            ]
          },
          "metadata": {
            "tags": []
          },
          "execution_count": 5
        }
      ]
    },
    {
      "cell_type": "markdown",
      "metadata": {
        "id": "huWbhFyJK4Vn"
      },
      "source": [
        "# create a model"
      ]
    },
    {
      "cell_type": "code",
      "metadata": {
        "id": "4zR7X6JuK7WW"
      },
      "source": [
        "keras.models?"
      ],
      "execution_count": null,
      "outputs": []
    },
    {
      "cell_type": "code",
      "metadata": {
        "id": "eheFp_InJiao",
        "colab": {
          "base_uri": "https://localhost:8080/",
          "height": 53
        },
        "outputId": "f64d8ff8-39cd-4f67-d1dd-e01ca85f8cfd"
      },
      "source": [
        "model_digits64 = Sequential()\n",
        "## encoder\n",
        "# input layer and the output size\n",
        "model_digits64.add(Dense(\n",
        "  #compression layer\n",
        "model_digits64.add(Dense(\n",
        "## deencoder\n",
        "#decompression layer, same size as in the encoder\n",
        "model_digits64.add(Dense(\n",
        "#output layer, same size as input\n",
        "model_digits64.add(Dense(ndim, activation='linear'))\n",
        "\n",
        "\n",
        "#alternative syntax\n",
        "\"\"\"\n",
        "encoded = Dense(encoding_dim, activation='relu')(input_img)\n",
        "# \"decoded\" is the lossy reconstruction of the input\n",
        "decoded = Dense(784, activation='sigmoid')(encoded)\n",
        "\n",
        "autoencoder = Model(input_img, decoded)\n",
        "\n",
        "encoder = Model(input_img, encoded)\n",
        "\n",
        "# create a placeholder for an encoded (32-dimensional) input\n",
        "encoded_input = Input(shape=(encoding_dim,))\n",
        "# retrieve the last layer of the autoencoder model\n",
        "decoder_layer = autoencoder.layers[-1]\n",
        "# create the decoder model\n",
        "decoder = Model(encoded_input, decoder_layer(encoded_input))\n",
        "\"\"\""
      ],
      "execution_count": null,
      "outputs": [
        {
          "output_type": "execute_result",
          "data": {
            "text/plain": [
              "'\\nencoded = Dense(encoding_dim, activation=\\'relu\\')(input_img)\\n# \"decoded\" is the lossy reconstruction of the input\\ndecoded = Dense(784, activation=\\'sigmoid\\')(encoded)\\n\\nautoencoder = Model(input_img, decoded)\\n\\nencoder = Model(input_img, encoded)\\n\\n# create a placeholder for an encoded (32-dimensional) input\\nencoded_input = Input(shape=(encoding_dim,))\\n# retrieve the last layer of the autoencoder model\\ndecoder_layer = autoencoder.layers[-1]\\n# create the decoder model\\ndecoder = Model(encoded_input, decoder_layer(encoded_input))\\n'"
            ]
          },
          "metadata": {
            "tags": []
          },
          "execution_count": 7
        }
      ]
    },
    {
      "cell_type": "markdown",
      "metadata": {
        "id": "h-jfXI90M0yE"
      },
      "source": [
        "### regression\n",
        "- loss='mean_squared_error' L2: default loss to use for regression problems. => linear activation function in output layer, one node out\n",
        "\n",
        "alternatives:  loss='mean_squared_logarithmic_error', 'mean_absolute_error' (which is L1 instead of L2)\n",
        "### binary classification\n",
        "\n",
        "- loss='binary_crossentropy' => sigmoid activation function in output layer, one node out\n",
        "\n",
        "alternatives: 'hinge'\n",
        "\n",
        "### multiclass classification\n",
        "categorical encoded as numerical\n",
        "- loss='categorical_crossentropy' => softmax n nodes out\n",
        "\n",
        "onehot encoded categoridal\n",
        "- 'parse_categorical_crossentropy' => softmax n nodes out\n",
        "\n",
        "- 'kullback Leibler Divergence Loss' => probabilistic categorical classification; log(P/Q)"
      ]
    },
    {
      "cell_type": "markdown",
      "metadata": {
        "id": "2ZORHj6SPha0"
      },
      "source": [
        "## optimizers\n",
        "- SGD: stocastic gradient descent \n",
        "    - nesterov=True -> momentum inclusion\n",
        "- adam: Adaptive moment estimation. **good in most cases**\n",
        "- adagrad: different steps for different parameters based on frequency (binary input) well-suited for dealing with sparse data.\n",
        "\n",
        "- adaDelta: like adagrad but compensated for vanishing learning rate problem\n",
        "\n",
        "momentum refers to looking one step back and make a decision that includes the slope there\n",
        "\n",
        "### parameter:\n",
        "generally you need to adjust the learning rate which is how much you change the parameters by at each step. \n",
        "keras.optimizers.Adam(lr=0.001)\n",
        "\n",
        "\n",
        "https://gitcdn.xyz/cdn/Tony607/blog_statics/e1a0b1e060e783bd1978a141acff897ae71bd021/images/optimizer/optimizer.gif"
      ]
    },
    {
      "cell_type": "code",
      "metadata": {
        "id": "MePeWiOJJsTi"
      },
      "source": [
        "# choose the optimizer and loss appropriately!\n",
        "model_digits64.compile(...."
      ],
      "execution_count": null,
      "outputs": []
    },
    {
      "cell_type": "code",
      "metadata": {
        "id": "KwCCOxn1Juxl"
      },
      "source": [
        "print(model_digits64.summary())"
      ],
      "execution_count": null,
      "outputs": []
    },
    {
      "cell_type": "code",
      "metadata": {
        "id": "HsWOelvIJun2",
        "colab": {
          "base_uri": "https://localhost:8080/",
          "height": 683
        },
        "outputId": "0d38e1d8-764c-471e-b2c0-fae87e13116c"
      },
      "source": [
        "history64 = model_digits64.fit(x_train, x_train, \n",
        "                               validation_data=(x_test, x_test),\n",
        "                               epochs=..., batch_size=100, verbose=1)"
      ],
      "execution_count": null,
      "outputs": [
        {
          "output_type": "stream",
          "text": [
            "Train on 60000 samples, validate on 10000 samples\n",
            "Epoch 1/20\n",
            "60000/60000 [==============================] - 4s 65us/step - loss: 0.0638 - val_loss: 0.0524\n",
            "Epoch 2/20\n",
            "60000/60000 [==============================] - 2s 37us/step - loss: 0.0455 - val_loss: 0.0398\n",
            "Epoch 3/20\n",
            "60000/60000 [==============================] - 2s 37us/step - loss: 0.0375 - val_loss: 0.0350\n",
            "Epoch 4/20\n",
            "60000/60000 [==============================] - 2s 38us/step - loss: 0.0339 - val_loss: 0.0321\n",
            "Epoch 5/20\n",
            "60000/60000 [==============================] - 2s 38us/step - loss: 0.0313 - val_loss: 0.0296\n",
            "Epoch 6/20\n",
            "60000/60000 [==============================] - 2s 37us/step - loss: 0.0291 - val_loss: 0.0276\n",
            "Epoch 7/20\n",
            "60000/60000 [==============================] - 2s 37us/step - loss: 0.0273 - val_loss: 0.0260\n",
            "Epoch 8/20\n",
            "60000/60000 [==============================] - 2s 38us/step - loss: 0.0258 - val_loss: 0.0248\n",
            "Epoch 9/20\n",
            "60000/60000 [==============================] - 2s 38us/step - loss: 0.0247 - val_loss: 0.0236\n",
            "Epoch 10/20\n",
            "60000/60000 [==============================] - 2s 38us/step - loss: 0.0237 - val_loss: 0.0230\n",
            "Epoch 11/20\n",
            "60000/60000 [==============================] - 2s 38us/step - loss: 0.0229 - val_loss: 0.0221\n",
            "Epoch 12/20\n",
            "60000/60000 [==============================] - 2s 38us/step - loss: 0.0223 - val_loss: 0.0217\n",
            "Epoch 13/20\n",
            "60000/60000 [==============================] - 2s 37us/step - loss: 0.0217 - val_loss: 0.0212\n",
            "Epoch 14/20\n",
            "60000/60000 [==============================] - 2s 37us/step - loss: 0.0212 - val_loss: 0.0205\n",
            "Epoch 15/20\n",
            "60000/60000 [==============================] - 2s 37us/step - loss: 0.0208 - val_loss: 0.0200\n",
            "Epoch 16/20\n",
            "60000/60000 [==============================] - 2s 37us/step - loss: 0.0204 - val_loss: 0.0197\n",
            "Epoch 17/20\n",
            "60000/60000 [==============================] - 2s 37us/step - loss: 0.0201 - val_loss: 0.0194\n",
            "Epoch 18/20\n",
            "60000/60000 [==============================] - 2s 37us/step - loss: 0.0198 - val_loss: 0.0191\n",
            "Epoch 19/20\n",
            "60000/60000 [==============================] - 2s 37us/step - loss: 0.0195 - val_loss: 0.0189\n",
            "Epoch 20/20\n",
            "60000/60000 [==============================] - 2s 37us/step - loss: 0.0193 - val_loss: 0.0186\n"
          ],
          "name": "stdout"
        }
      ]
    },
    {
      "cell_type": "markdown",
      "metadata": {
        "id": "HJO05FMnRGtP"
      },
      "source": [
        "# always look at the loss!"
      ]
    },
    {
      "cell_type": "code",
      "metadata": {
        "id": "VhfIAie1Jucz",
        "colab": {
          "base_uri": "https://localhost:8080/",
          "height": 295
        },
        "outputId": "c6f48622-40a4-4380-8a36-62b7fa27a2b1"
      },
      "source": [
        "pl.plot(np.array(history64.history['loss']))\n",
        "pl.ylabel('loss')\n",
        "pl.xlabel('iteration')\n",
        "#pl.yscale('log')\n",
        "#pl.xscale('log')"
      ],
      "execution_count": null,
      "outputs": [
        {
          "output_type": "execute_result",
          "data": {
            "text/plain": [
              "Text(0.5, 0, 'iteration')"
            ]
          },
          "metadata": {
            "tags": []
          },
          "execution_count": 11
        },
        {
          "output_type": "display_data",
          "data": {
            "image/png": "[encoded data removed]",
            "text/plain": [
              "<Figure size 432x288 with 1 Axes>"
            ]
          },
          "metadata": {
            "tags": [],
            "needs_background": "light"
          }
        }
      ]
    },
    {
      "cell_type": "markdown",
      "metadata": {
        "id": "ZnbDdWi4NxBj"
      },
      "source": [
        "The loss fuctionis plotted and because it is still decreasingn quite rapidly (slope of the curve not near 0 yet) I know I did not run enough epochs. Try and run for 200 epochs!"
      ]
    },
    {
      "cell_type": "markdown",
      "metadata": {
        "id": "iGTPRyFgRQTF"
      },
      "source": [
        "# predict"
      ]
    },
    {
      "cell_type": "code",
      "metadata": {
        "id": "7exTCDcJKhU_"
      },
      "source": [
        "output_image64 = model_digits64.predict(x_test)"
      ],
      "execution_count": null,
      "outputs": []
    },
    {
      "cell_type": "code",
      "metadata": {
        "id": "qeFEGpTul4U6"
      },
      "source": [
        "def compareinout(i, outim, testimg, initialshape=(28,28)):\n",
        "  fig = pl.figure(figsize(10,5))\n",
        "  ax = fig.add_subplot(121) \n",
        "  ax.imshow(testimg[i].reshape(initialshape) , cmap=\"bone\")\n",
        "  ax.get_xaxis().set_visible(False)\n",
        "  ax.get_yaxis().set_visible(False)\n",
        "  ax = fig.add_subplot(122) \n",
        "  ax.imshow(outim[i].reshape(initialshape) , cmap=\"bone\")\n",
        "  ax.get_xaxis().set_visible(False)\n",
        "  ax.get_yaxis().set_visible(False)\n"
      ],
      "execution_count": null,
      "outputs": []
    },
    {
      "cell_type": "code",
      "metadata": {
        "id": "v3hzx41EKhOj"
      },
      "source": [
        "for i in range(10):\n",
        "  compareinout(i, output_image64, x_test)"
      ],
      "execution_count": null,
      "outputs": []
    },
    {
      "cell_type": "markdown",
      "metadata": {
        "id": "whLydcJrM7t6"
      },
      "source": [
        "This is a rather bad result. Let me see if I can improve it . The images are too detailed. I can treat the problem as a binary problem to derice some detail. To approach a binary classifier I switch the activation function in the last layer to sigmoid"
      ]
    },
    {
      "cell_type": "markdown",
      "metadata": {
        "id": "NsvBeF_nSJTO"
      },
      "source": [
        "# change loss function"
      ]
    },
    {
      "cell_type": "code",
      "metadata": {
        "id": "sDXyqX7WKhHu"
      },
      "source": [
        "# choose the optimizer and loss appropriately!\n",
        "model_digits64_sig = Sequential()\n",
        "## encoder.....\n",
        "model_digits64_sig.add(Dense(ndim, activation=...\n",
        "model_digits64_sig.compile(optimizer=\"adadelta\", loss=..."
      ],
      "execution_count": null,
      "outputs": []
    },
    {
      "cell_type": "code",
      "metadata": {
        "id": "hbxiT8xdKhC8"
      },
      "source": [
        "history64_sig = model_digits64_sig.fit(x_train, x_train, \n",
        "                                       validation_data=(x_test, x_test), \n",
        "                                       epochs=..., batch_size=100, verbose=1)"
      ],
      "execution_count": null,
      "outputs": []
    },
    {
      "cell_type": "code",
      "metadata": {
        "id": "dQFxJHtbR2RV",
        "colab": {
          "base_uri": "https://localhost:8080/",
          "height": 350
        },
        "outputId": "2d6bf216-76bc-4e05-9638-f998e2f932c0"
      },
      "source": [
        "pl.plot(np.array(history64_sig.history['loss']))\n",
        "pl.ylabel('loss')\n",
        "pl.xlabel('iteration')\n",
        "#pl.yscale('log')\n",
        "#pl.xscale('log')"
      ],
      "execution_count": null,
      "outputs": [
        {
          "output_type": "execute_result",
          "data": {
            "text/plain": [
              "Text(0.5, 0, 'iteration')"
            ]
          },
          "metadata": {
            "tags": []
          },
          "execution_count": 17
        },
        {
          "output_type": "display_data",
          "data": {
            "image/png": "[encoded data removed]",
            "text/plain": [
              "<Figure size 720x360 with 1 Axes>"
            ]
          },
          "metadata": {
            "tags": [],
            "needs_background": "light"
          }
        }
      ]
    },
    {
      "cell_type": "markdown",
      "metadata": {
        "id": "ZipOD2qLNYQq"
      },
      "source": [
        "The loss fuctionis plotted and because it is still decreasingn quite rapidly (slope of the curve not near 0 yet) I know I did not run enough epochs. Try and run for 200 epochs!"
      ]
    },
    {
      "cell_type": "code",
      "metadata": {
        "id": "1yOJ8s_xR2L3"
      },
      "source": [
        "output_image64_sig = model_digits64_sig.predict(x_test)\n",
        "for i in range(10):\n",
        "  compareinout(i, output_image64_sig, x_test)"
      ],
      "execution_count": null,
      "outputs": []
    },
    {
      "cell_type": "markdown",
      "metadata": {
        "id": "7A14pdeQNOb8"
      },
      "source": [
        "Much better! Let me choose a loss fuctio that is more appropriate for a nbinary classificaton."
      ]
    },
    {
      "cell_type": "code",
      "metadata": {
        "id": "mBCGc4CLTXJ9"
      },
      "source": [
        "# sigmoid and binary cross entropy loss\n",
        "model_digits64_bce = model_digits64_sig"
      ],
      "execution_count": null,
      "outputs": []
    },
    {
      "cell_type": "code",
      "metadata": {
        "id": "ZH8X_lDVTlCs"
      },
      "source": [
        "model_digits64_bce.compile(optimizer=\"adadelta\", loss=\"binary_crossentropy\")\n",
        "history64_bce = model_digits64_bce.fit(x_train, x_train, \n",
        "                                       validation_data=(x_test, x_test), \n",
        "                                       epochs=..., batch_size=100, verbose=1)"
      ],
      "execution_count": null,
      "outputs": []
    },
    {
      "cell_type": "code",
      "metadata": {
        "id": "g94anP0NT4ET"
      },
      "source": [
        "pl.plot(np.array(history64_bce.history['loss']))\n",
        "pl.ylabel('loss')\n",
        "pl.xlabel('iteration')\n",
        "#pl.yscale('log')\n",
        "#pl.xscale('log')"
      ],
      "execution_count": null,
      "outputs": []
    },
    {
      "cell_type": "markdown",
      "metadata": {
        "id": "q4jlTB2zN_0Y"
      },
      "source": [
        "This loss fuction is also decreasing to steeply. Too few epochs!"
      ]
    },
    {
      "cell_type": "code",
      "metadata": {
        "id": "_HuqPELWT380"
      },
      "source": [
        "output_image64_bce = model_digits64_bce.predict(x_test)\n",
        "for i in range(10):\n",
        "  compareinout(i, output_image64_bce, x_test)"
      ],
      "execution_count": null,
      "outputs": []
    },
    {
      "cell_type": "markdown",
      "metadata": {
        "id": "OvSx1rU4OHrp"
      },
      "source": [
        "This is a pretty good result!"
      ]
    },
    {
      "cell_type": "code",
      "metadata": {
        "id": "5yWtDsH3T30C",
        "colab": {
          "base_uri": "https://localhost:8080/",
          "height": 702
        },
        "outputId": "82f5a425-2780-4787-8c8e-ea646120d2ef"
      },
      "source": [
        "pl.plot(np.array(history64.history['loss']), label=\"linear\")\n",
        "pl.plot(np.array(history64_sig.history['loss']), label=\"sigmoid\")\n",
        "pl.plot(np.array(history64_bce.history['loss']), label=\"bce\")\n",
        "pl.ylabel('loss')\n",
        "pl.xlabel('iteration')\n",
        "pl.legend()\n",
        "pl.title(\"the 3 loss functions\")\n",
        "pl.figure()\n",
        "pl.plot(np.array(history64.history['loss']), label=\"linear\")\n",
        "pl.plot(np.array(history64_sig.history['loss']), label=\"sigmoid\")\n",
        "pl.plot(np.array(history64_bce.history['loss']), label=\"bce\")\n",
        "pl.ylabel('loss')\n",
        "pl.xlabel('iteration')\n",
        "pl.xscale('log')\n",
        "pl.yscale('log')\n",
        "pl.legend()\n",
        "pl.title(\"the 3 loss functions, log scale\")"
      ],
      "execution_count": null,
      "outputs": [
        {
          "output_type": "execute_result",
          "data": {
            "text/plain": [
              "Text(0.5, 1.0, 'the 3 loss functions, log scale')"
            ]
          },
          "metadata": {
            "tags": []
          },
          "execution_count": 28
        },
        {
          "output_type": "display_data",
          "data": {
            "image/png": "[encoded data removed]",
            "text/plain": [
              "<Figure size 720x360 with 1 Axes>"
            ]
          },
          "metadata": {
            "tags": [],
            "needs_background": "light"
          }
        },
        {
          "output_type": "display_data",
          "data": {
            "image/png": "[encoded data removed]",
            "text/plain": [
              "<Figure size 720x360 with 1 Axes>"
            ]
          },
          "metadata": {
            "tags": [],
            "needs_background": "light"
          }
        }
      ]
    },
    {
      "cell_type": "markdown",
      "metadata": {
        "id": "tXbrVpAUOeJF"
      },
      "source": [
        "All loss functions plotted: topin natural, bottomin logscale for enhanced visibility. It does not look like any of them is done learning (all decreasing rapidly still), especially the one for the the sigmoid-based mean square error loss."
      ]
    },
    {
      "cell_type": "markdown",
      "metadata": {
        "id": "tWUnoBqkKg9K"
      },
      "source": [
        "# try more compression\n",
        "\n",
        "Now we shrink the bottle neck to 16 neurons: a much more ambitions model!"
      ]
    },
    {
      "cell_type": "code",
      "metadata": {
        "id": "IXbjHrYSfwIP"
      },
      "source": [
        "model_digits = Sequential()\n",
        "#encoder...\n",
        "#bottle neck\n",
        "model_digits.add(Dense(16, activation='relu'))\n",
        "#decoder...\n",
        "model_digits.add(Dense(ndim, activation='sigmoid'))\n"
      ],
      "execution_count": null,
      "outputs": []
    },
    {
      "cell_type": "code",
      "metadata": {
        "id": "K6lGMsQki6RC"
      },
      "source": [
        "model_digits.compile(optimizer=\"adadelta\", loss=\"binary_crossentropy\")"
      ],
      "execution_count": null,
      "outputs": []
    },
    {
      "cell_type": "code",
      "metadata": {
        "id": "6QXiwgL0kPsy"
      },
      "source": [
        "print(model_digits.summary())"
      ],
      "execution_count": null,
      "outputs": []
    },
    {
      "cell_type": "code",
      "metadata": {
        "id": "65mlyV5hj8Od",
        "colab": {
          "base_uri": "https://localhost:8080/",
          "height": 1000
        },
        "outputId": "11dcb931-5d61-47cd-e030-78a5115efab4"
      },
      "source": [
        "history = model_digits.fit(x_train, x_train, epochs=200, batch_size=100, verbose=1)"
      ],
      "execution_count": null,
      "outputs": [
        {
          "output_type": "stream",
          "text": [
            "Epoch 1/200\n",
            "60000/60000 [==============================] - 3s 51us/step - loss: 0.2869\n",
            "Epoch 2/200\n",
            "60000/60000 [==============================] - 3s 48us/step - loss: 0.2476\n",
            "Epoch 3/200\n",
            "60000/60000 [==============================] - 3s 48us/step - loss: 0.2359\n",
            "Epoch 4/200\n",
            "60000/60000 [==============================] - 3s 48us/step - loss: 0.2214\n",
            "Epoch 5/200\n",
            "60000/60000 [==============================] - 3s 47us/step - loss: 0.1983\n",
            "Epoch 6/200\n",
            "60000/60000 [==============================] - 3s 47us/step - loss: 0.1852\n",
            "Epoch 7/200\n",
            "60000/60000 [==============================] - 3s 48us/step - loss: 0.1781\n",
            "Epoch 8/200\n",
            "60000/60000 [==============================] - 3s 47us/step - loss: 0.1722\n",
            "Epoch 9/200\n",
            "60000/60000 [==============================] - 3s 46us/step - loss: 0.1652\n",
            "Epoch 10/200\n",
            "60000/60000 [==============================] - 3s 47us/step - loss: 0.1590\n",
            "Epoch 11/200\n",
            "60000/60000 [==============================] - 3s 47us/step - loss: 0.1538\n",
            "Epoch 12/200\n",
            "60000/60000 [==============================] - 3s 47us/step - loss: 0.1499\n",
            "Epoch 13/200\n",
            "60000/60000 [==============================] - 3s 47us/step - loss: 0.1470\n",
            "Epoch 14/200\n",
            "60000/60000 [==============================] - 3s 48us/step - loss: 0.1447\n",
            "Epoch 15/200\n",
            "60000/60000 [==============================] - 3s 48us/step - loss: 0.1429\n",
            "Epoch 16/200\n",
            "60000/60000 [==============================] - 3s 47us/step - loss: 0.1412\n",
            "Epoch 17/200\n",
            "60000/60000 [==============================] - 3s 46us/step - loss: 0.1398\n",
            "Epoch 18/200\n",
            "60000/60000 [==============================] - 3s 48us/step - loss: 0.1385\n",
            "Epoch 19/200\n",
            "60000/60000 [==============================] - 3s 47us/step - loss: 0.1372\n",
            "Epoch 20/200\n",
            "60000/60000 [==============================] - 3s 48us/step - loss: 0.1361\n",
            "Epoch 21/200\n",
            "60000/60000 [==============================] - 3s 48us/step - loss: 0.1345\n",
            "Epoch 22/200\n",
            "60000/60000 [==============================] - 3s 48us/step - loss: 0.1331\n",
            "Epoch 23/200\n",
            "60000/60000 [==============================] - 3s 47us/step - loss: 0.1317\n",
            "Epoch 24/200\n",
            "60000/60000 [==============================] - 3s 47us/step - loss: 0.1304\n",
            "Epoch 25/200\n",
            "60000/60000 [==============================] - 3s 48us/step - loss: 0.1293\n",
            "Epoch 26/200\n",
            "60000/60000 [==============================] - 3s 47us/step - loss: 0.1283\n",
            "Epoch 27/200\n",
            "60000/60000 [==============================] - 3s 48us/step - loss: 0.1274\n",
            "Epoch 28/200\n",
            "60000/60000 [==============================] - 3s 48us/step - loss: 0.1265\n",
            "Epoch 29/200\n",
            "60000/60000 [==============================] - 3s 48us/step - loss: 0.1257\n",
            "Epoch 30/200\n",
            "60000/60000 [==============================] - 3s 48us/step - loss: 0.1249\n",
            "Epoch 31/200\n",
            "60000/60000 [==============================] - 3s 49us/step - loss: 0.1241\n",
            "Epoch 32/200\n",
            "60000/60000 [==============================] - 3s 50us/step - loss: 0.1235\n",
            "Epoch 33/200\n",
            "60000/60000 [==============================] - 3s 49us/step - loss: 0.1230\n",
            "Epoch 34/200\n",
            "60000/60000 [==============================] - 3s 48us/step - loss: 0.1224\n",
            "Epoch 35/200\n",
            "60000/60000 [==============================] - 3s 48us/step - loss: 0.1218\n",
            "Epoch 36/200\n",
            "60000/60000 [==============================] - 3s 47us/step - loss: 0.1213\n",
            "Epoch 37/200\n",
            "60000/60000 [==============================] - 3s 46us/step - loss: 0.1207\n",
            "Epoch 38/200\n",
            "60000/60000 [==============================] - 3s 46us/step - loss: 0.1202\n",
            "Epoch 39/200\n",
            "60000/60000 [==============================] - 3s 46us/step - loss: 0.1198\n",
            "Epoch 40/200\n",
            "60000/60000 [==============================] - 3s 47us/step - loss: 0.1194\n",
            "Epoch 41/200\n",
            "60000/60000 [==============================] - 3s 47us/step - loss: 0.1189\n",
            "Epoch 42/200\n",
            "60000/60000 [==============================] - 3s 47us/step - loss: 0.1185\n",
            "Epoch 43/200\n",
            "60000/60000 [==============================] - 3s 46us/step - loss: 0.1182\n",
            "Epoch 44/200\n",
            "60000/60000 [==============================] - 3s 47us/step - loss: 0.1178\n",
            "Epoch 45/200\n",
            "60000/60000 [==============================] - 3s 46us/step - loss: 0.1175\n",
            "Epoch 46/200\n",
            "60000/60000 [==============================] - 3s 46us/step - loss: 0.1171\n",
            "Epoch 47/200\n",
            "60000/60000 [==============================] - 3s 46us/step - loss: 0.1168\n",
            "Epoch 48/200\n",
            "60000/60000 [==============================] - 3s 47us/step - loss: 0.1164\n",
            "Epoch 49/200\n",
            "60000/60000 [==============================] - 3s 48us/step - loss: 0.1162\n",
            "Epoch 50/200\n",
            "60000/60000 [==============================] - 3s 47us/step - loss: 0.1159\n",
            "Epoch 51/200\n",
            "60000/60000 [==============================] - 3s 47us/step - loss: 0.1157\n",
            "Epoch 52/200\n",
            "60000/60000 [==============================] - 3s 46us/step - loss: 0.1154\n",
            "Epoch 53/200\n",
            "60000/60000 [==============================] - 3s 45us/step - loss: 0.1151\n",
            "Epoch 54/200\n",
            "60000/60000 [==============================] - 3s 45us/step - loss: 0.1148\n",
            "Epoch 55/200\n",
            "60000/60000 [==============================] - 3s 45us/step - loss: 0.1146\n",
            "Epoch 56/200\n",
            "60000/60000 [==============================] - 3s 45us/step - loss: 0.1143\n",
            "Epoch 57/200\n",
            "60000/60000 [==============================] - 3s 45us/step - loss: 0.1142\n",
            "Epoch 58/200\n",
            "60000/60000 [==============================] - 3s 44us/step - loss: 0.1139\n",
            "Epoch 59/200\n",
            "60000/60000 [==============================] - 3s 45us/step - loss: 0.1137\n",
            "Epoch 60/200\n",
            "60000/60000 [==============================] - 3s 45us/step - loss: 0.1135\n",
            "Epoch 61/200\n",
            "60000/60000 [==============================] - 3s 45us/step - loss: 0.1132\n",
            "Epoch 62/200\n",
            "60000/60000 [==============================] - 3s 45us/step - loss: 0.1131\n",
            "Epoch 63/200\n",
            "60000/60000 [==============================] - 3s 45us/step - loss: 0.1129\n",
            "Epoch 64/200\n",
            "60000/60000 [==============================] - 3s 46us/step - loss: 0.1126\n",
            "Epoch 65/200\n",
            "60000/60000 [==============================] - 3s 45us/step - loss: 0.1124\n",
            "Epoch 66/200\n",
            "60000/60000 [==============================] - 3s 46us/step - loss: 0.1123\n",
            "Epoch 67/200\n",
            "60000/60000 [==============================] - 3s 45us/step - loss: 0.1121\n",
            "Epoch 68/200\n",
            "60000/60000 [==============================] - 3s 46us/step - loss: 0.1119\n",
            "Epoch 69/200\n",
            "60000/60000 [==============================] - 3s 45us/step - loss: 0.1117\n",
            "Epoch 70/200\n",
            "60000/60000 [==============================] - 3s 46us/step - loss: 0.1115\n",
            "Epoch 71/200\n",
            "60000/60000 [==============================] - 3s 47us/step - loss: 0.1113\n",
            "Epoch 72/200\n",
            "60000/60000 [==============================] - 3s 45us/step - loss: 0.1112\n",
            "Epoch 73/200\n",
            "60000/60000 [==============================] - 3s 46us/step - loss: 0.1109\n",
            "Epoch 74/200\n",
            "60000/60000 [==============================] - 3s 45us/step - loss: 0.1108\n",
            "Epoch 75/200\n",
            "60000/60000 [==============================] - 3s 46us/step - loss: 0.1105\n",
            "Epoch 76/200\n",
            "60000/60000 [==============================] - 3s 45us/step - loss: 0.1102\n",
            "Epoch 77/200\n",
            "60000/60000 [==============================] - 3s 45us/step - loss: 0.1101\n",
            "Epoch 78/200\n",
            "60000/60000 [==============================] - 3s 47us/step - loss: 0.1099\n",
            "Epoch 79/200\n",
            "60000/60000 [==============================] - 3s 47us/step - loss: 0.1097\n",
            "Epoch 80/200\n",
            "60000/60000 [==============================] - 3s 45us/step - loss: 0.1096\n",
            "Epoch 81/200\n",
            "60000/60000 [==============================] - 3s 46us/step - loss: 0.1094\n",
            "Epoch 82/200\n",
            "60000/60000 [==============================] - 3s 45us/step - loss: 0.1091\n",
            "Epoch 83/200\n",
            "60000/60000 [==============================] - 3s 45us/step - loss: 0.1090\n",
            "Epoch 84/200\n",
            "60000/60000 [==============================] - 3s 47us/step - loss: 0.1089\n",
            "Epoch 85/200\n",
            "60000/60000 [==============================] - 3s 46us/step - loss: 0.1088\n",
            "Epoch 86/200\n",
            "60000/60000 [==============================] - 3s 50us/step - loss: 0.1085\n",
            "Epoch 87/200\n",
            "60000/60000 [==============================] - 3s 48us/step - loss: 0.1084\n",
            "Epoch 88/200\n",
            "60000/60000 [==============================] - 3s 47us/step - loss: 0.1082\n",
            "Epoch 89/200\n",
            "60000/60000 [==============================] - 3s 49us/step - loss: 0.1081\n",
            "Epoch 90/200\n",
            "60000/60000 [==============================] - 3s 50us/step - loss: 0.1080\n",
            "Epoch 91/200\n",
            "60000/60000 [==============================] - 3s 47us/step - loss: 0.1078\n",
            "Epoch 92/200\n",
            "60000/60000 [==============================] - 3s 46us/step - loss: 0.1076\n",
            "Epoch 93/200\n",
            "60000/60000 [==============================] - 3s 47us/step - loss: 0.1076\n",
            "Epoch 94/200\n",
            "60000/60000 [==============================] - 3s 47us/step - loss: 0.1073\n",
            "Epoch 95/200\n",
            "60000/60000 [==============================] - 3s 47us/step - loss: 0.1072\n",
            "Epoch 96/200\n",
            "60000/60000 [==============================] - 3s 48us/step - loss: 0.1071\n",
            "Epoch 97/200\n",
            "60000/60000 [==============================] - 3s 47us/step - loss: 0.1069\n",
            "Epoch 98/200\n",
            "60000/60000 [==============================] - 3s 47us/step - loss: 0.1067\n",
            "Epoch 99/200\n",
            "60000/60000 [==============================] - 3s 47us/step - loss: 0.1067\n",
            "Epoch 100/200\n",
            "60000/60000 [==============================] - 3s 49us/step - loss: 0.1065\n",
            "Epoch 101/200\n",
            "60000/60000 [==============================] - 3s 48us/step - loss: 0.1063\n",
            "Epoch 102/200\n",
            "60000/60000 [==============================] - 3s 49us/step - loss: 0.1062\n",
            "Epoch 103/200\n",
            "60000/60000 [==============================] - 3s 47us/step - loss: 0.1060\n",
            "Epoch 104/200\n",
            "60000/60000 [==============================] - 3s 48us/step - loss: 0.1060\n",
            "Epoch 105/200\n",
            "60000/60000 [==============================] - 3s 48us/step - loss: 0.1058\n",
            "Epoch 106/200\n",
            "60000/60000 [==============================] - 3s 48us/step - loss: 0.1057\n",
            "Epoch 107/200\n",
            "60000/60000 [==============================] - 3s 47us/step - loss: 0.1056\n",
            "Epoch 108/200\n",
            "60000/60000 [==============================] - 3s 45us/step - loss: 0.1055\n",
            "Epoch 109/200\n",
            "60000/60000 [==============================] - 3s 45us/step - loss: 0.1054\n",
            "Epoch 110/200\n",
            "60000/60000 [==============================] - 3s 45us/step - loss: 0.1052\n",
            "Epoch 111/200\n",
            "60000/60000 [==============================] - 3s 46us/step - loss: 0.1052\n",
            "Epoch 112/200\n",
            "60000/60000 [==============================] - 3s 46us/step - loss: 0.1050\n",
            "Epoch 113/200\n",
            "60000/60000 [==============================] - 3s 45us/step - loss: 0.1050\n",
            "Epoch 114/200\n",
            "60000/60000 [==============================] - 3s 46us/step - loss: 0.1048\n",
            "Epoch 115/200\n",
            "60000/60000 [==============================] - 3s 46us/step - loss: 0.1049\n",
            "Epoch 116/200\n",
            "60000/60000 [==============================] - 3s 46us/step - loss: 0.1048\n",
            "Epoch 117/200\n",
            "60000/60000 [==============================] - 3s 46us/step - loss: 0.1046\n",
            "Epoch 118/200\n",
            "60000/60000 [==============================] - 3s 46us/step - loss: 0.1044\n",
            "Epoch 119/200\n",
            "60000/60000 [==============================] - 3s 45us/step - loss: 0.1044\n",
            "Epoch 120/200\n",
            "60000/60000 [==============================] - 3s 44us/step - loss: 0.1042\n",
            "Epoch 121/200\n",
            "60000/60000 [==============================] - 3s 45us/step - loss: 0.1043\n",
            "Epoch 122/200\n",
            "60000/60000 [==============================] - 3s 45us/step - loss: 0.1042\n",
            "Epoch 123/200\n",
            "60000/60000 [==============================] - 3s 45us/step - loss: 0.1040\n",
            "Epoch 124/200\n",
            "60000/60000 [==============================] - 3s 46us/step - loss: 0.1039\n",
            "Epoch 125/200\n",
            "60000/60000 [==============================] - 3s 46us/step - loss: 0.1039\n",
            "Epoch 126/200\n",
            "60000/60000 [==============================] - 3s 45us/step - loss: 0.1037\n",
            "Epoch 127/200\n",
            "60000/60000 [==============================] - 3s 45us/step - loss: 0.1038\n",
            "Epoch 128/200\n",
            "60000/60000 [==============================] - 3s 45us/step - loss: 0.1036\n",
            "Epoch 129/200\n",
            "60000/60000 [==============================] - 3s 46us/step - loss: 0.1035\n",
            "Epoch 130/200\n",
            "60000/60000 [==============================] - 3s 45us/step - loss: 0.1035\n",
            "Epoch 131/200\n",
            "60000/60000 [==============================] - 3s 45us/step - loss: 0.1033\n",
            "Epoch 132/200\n",
            "60000/60000 [==============================] - 3s 44us/step - loss: 0.1033\n",
            "Epoch 133/200\n",
            "60000/60000 [==============================] - 3s 45us/step - loss: 0.1032\n",
            "Epoch 134/200\n",
            "60000/60000 [==============================] - 3s 44us/step - loss: 0.1032\n",
            "Epoch 135/200\n",
            "60000/60000 [==============================] - 3s 45us/step - loss: 0.1031\n",
            "Epoch 136/200\n",
            "60000/60000 [==============================] - 3s 45us/step - loss: 0.1028\n",
            "Epoch 137/200\n",
            "60000/60000 [==============================] - 3s 44us/step - loss: 0.1029\n",
            "Epoch 138/200\n",
            "60000/60000 [==============================] - 3s 44us/step - loss: 0.1027\n",
            "Epoch 139/200\n",
            "60000/60000 [==============================] - 3s 44us/step - loss: 0.1027\n",
            "Epoch 140/200\n",
            "60000/60000 [==============================] - 3s 44us/step - loss: 0.1026\n",
            "Epoch 141/200\n",
            "60000/60000 [==============================] - 3s 44us/step - loss: 0.1025\n",
            "Epoch 142/200\n",
            "60000/60000 [==============================] - 3s 45us/step - loss: 0.1025\n",
            "Epoch 143/200\n",
            "60000/60000 [==============================] - 3s 45us/step - loss: 0.1023\n",
            "Epoch 144/200\n",
            "60000/60000 [==============================] - 3s 45us/step - loss: 0.1023\n",
            "Epoch 145/200\n",
            "60000/60000 [==============================] - 3s 45us/step - loss: 0.1022\n",
            "Epoch 146/200\n",
            "60000/60000 [==============================] - 3s 45us/step - loss: 0.1021\n",
            "Epoch 147/200\n",
            "60000/60000 [==============================] - 3s 44us/step - loss: 0.1020\n",
            "Epoch 148/200\n",
            "60000/60000 [==============================] - 3s 45us/step - loss: 0.1019\n",
            "Epoch 149/200\n",
            "60000/60000 [==============================] - 3s 45us/step - loss: 0.1019\n",
            "Epoch 150/200\n",
            "60000/60000 [==============================] - 3s 45us/step - loss: 0.1018\n",
            "Epoch 151/200\n",
            "60000/60000 [==============================] - 3s 46us/step - loss: 0.1017\n",
            "Epoch 152/200\n",
            "60000/60000 [==============================] - 3s 45us/step - loss: 0.1017\n",
            "Epoch 153/200\n",
            "60000/60000 [==============================] - 3s 45us/step - loss: 0.1016\n",
            "Epoch 154/200\n",
            "60000/60000 [==============================] - 3s 45us/step - loss: 0.1016\n",
            "Epoch 155/200\n",
            "60000/60000 [==============================] - 3s 45us/step - loss: 0.1015\n",
            "Epoch 156/200\n",
            "60000/60000 [==============================] - 3s 44us/step - loss: 0.1014\n",
            "Epoch 157/200\n",
            "60000/60000 [==============================] - 3s 44us/step - loss: 0.1014\n",
            "Epoch 158/200\n",
            "60000/60000 [==============================] - 3s 45us/step - loss: 0.1013\n",
            "Epoch 159/200\n",
            "60000/60000 [==============================] - 3s 46us/step - loss: 0.1013\n",
            "Epoch 160/200\n",
            "60000/60000 [==============================] - 3s 45us/step - loss: 0.1012\n",
            "Epoch 161/200\n",
            "60000/60000 [==============================] - 3s 46us/step - loss: 0.1011\n",
            "Epoch 162/200\n",
            "60000/60000 [==============================] - 3s 46us/step - loss: 0.1011\n",
            "Epoch 163/200\n",
            "60000/60000 [==============================] - 3s 46us/step - loss: 0.1009\n",
            "Epoch 164/200\n",
            "60000/60000 [==============================] - 3s 46us/step - loss: 0.1010\n",
            "Epoch 165/200\n",
            "60000/60000 [==============================] - 3s 45us/step - loss: 0.1009\n",
            "Epoch 166/200\n",
            "60000/60000 [==============================] - 3s 45us/step - loss: 0.1008\n",
            "Epoch 167/200\n",
            "60000/60000 [==============================] - 3s 44us/step - loss: 0.1008\n",
            "Epoch 168/200\n",
            "60000/60000 [==============================] - 3s 44us/step - loss: 0.1006\n",
            "Epoch 169/200\n",
            "60000/60000 [==============================] - 3s 45us/step - loss: 0.1006\n",
            "Epoch 170/200\n",
            "60000/60000 [==============================] - 3s 45us/step - loss: 0.1005\n",
            "Epoch 171/200\n",
            "60000/60000 [==============================] - 3s 45us/step - loss: 0.1006\n",
            "Epoch 172/200\n",
            "60000/60000 [==============================] - 3s 45us/step - loss: 0.1004\n",
            "Epoch 173/200\n",
            "60000/60000 [==============================] - 3s 45us/step - loss: 0.1004\n",
            "Epoch 174/200\n",
            "60000/60000 [==============================] - 3s 44us/step - loss: 0.1004\n",
            "Epoch 175/200\n",
            "60000/60000 [==============================] - 3s 45us/step - loss: 0.1004\n",
            "Epoch 176/200\n",
            "60000/60000 [==============================] - 3s 45us/step - loss: 0.1002\n",
            "Epoch 177/200\n",
            "60000/60000 [==============================] - 3s 46us/step - loss: 0.1002\n",
            "Epoch 178/200\n",
            "60000/60000 [==============================] - 3s 45us/step - loss: 0.1001\n",
            "Epoch 179/200\n",
            "60000/60000 [==============================] - 3s 45us/step - loss: 0.1001\n",
            "Epoch 180/200\n",
            "60000/60000 [==============================] - 3s 46us/step - loss: 0.1001\n",
            "Epoch 181/200\n",
            "60000/60000 [==============================] - 3s 46us/step - loss: 0.1000\n",
            "Epoch 182/200\n",
            "60000/60000 [==============================] - 3s 45us/step - loss: 0.1000\n",
            "Epoch 183/200\n",
            "60000/60000 [==============================] - 3s 45us/step - loss: 0.0999\n",
            "Epoch 184/200\n",
            "60000/60000 [==============================] - 3s 45us/step - loss: 0.1000\n",
            "Epoch 185/200\n",
            "60000/60000 [==============================] - 3s 45us/step - loss: 0.0998\n",
            "Epoch 186/200\n",
            "60000/60000 [==============================] - 3s 44us/step - loss: 0.0997\n",
            "Epoch 187/200\n",
            "60000/60000 [==============================] - 3s 45us/step - loss: 0.0998\n",
            "Epoch 188/200\n",
            "60000/60000 [==============================] - 3s 46us/step - loss: 0.0995\n",
            "Epoch 189/200\n",
            "60000/60000 [==============================] - 3s 45us/step - loss: 0.0995\n",
            "Epoch 190/200\n",
            "60000/60000 [==============================] - 3s 46us/step - loss: 0.0996\n",
            "Epoch 191/200\n",
            "60000/60000 [==============================] - 3s 44us/step - loss: 0.0996\n",
            "Epoch 192/200\n",
            "60000/60000 [==============================] - 3s 44us/step - loss: 0.0994\n",
            "Epoch 193/200\n",
            "60000/60000 [==============================] - 3s 45us/step - loss: 0.0994\n",
            "Epoch 194/200\n",
            "60000/60000 [==============================] - 3s 47us/step - loss: 0.0993\n",
            "Epoch 195/200\n",
            "60000/60000 [==============================] - 3s 46us/step - loss: 0.0994\n",
            "Epoch 196/200\n",
            "60000/60000 [==============================] - 3s 46us/step - loss: 0.0993\n",
            "Epoch 197/200\n",
            "60000/60000 [==============================] - 3s 45us/step - loss: 0.0993\n",
            "Epoch 198/200\n",
            "60000/60000 [==============================] - 3s 47us/step - loss: 0.0992\n",
            "Epoch 199/200\n",
            "60000/60000 [==============================] - 3s 47us/step - loss: 0.0992\n",
            "Epoch 200/200\n",
            "60000/60000 [==============================] - 3s 47us/step - loss: 0.0992\n"
          ],
          "name": "stdout"
        }
      ]
    },
    {
      "cell_type": "code",
      "metadata": {
        "id": "nAbZDuXOlCZi",
        "colab": {
          "base_uri": "https://localhost:8080/",
          "height": 327
        },
        "outputId": "b2bb18b2-7913-415f-e9df-31de8809a95e"
      },
      "source": [
        "pl.plot(np.array(history.history['loss']))\n",
        "pl.yscale('log')\n",
        "pl.xscale('log')"
      ],
      "execution_count": null,
      "outputs": [
        {
          "output_type": "display_data",
          "data": {
            "image/png": "[encoded data removed]",
            "text/plain": [
              "<Figure size 720x360 with 1 Axes>"
            ]
          },
          "metadata": {
            "tags": [],
            "needs_background": "light"
          }
        }
      ]
    },
    {
      "cell_type": "markdown",
      "metadata": {
        "id": "eNcw-N9EPxib"
      },
      "source": [
        "the loss fuction: once again it did not finish learning. "
      ]
    },
    {
      "cell_type": "code",
      "metadata": {
        "id": "31mTTaI4mCKw",
        "colab": {
          "base_uri": "https://localhost:8080/",
          "height": 1000
        },
        "outputId": "f405e842-6d4e-4005-be1e-d73384ff01c5"
      },
      "source": [
        "output_image = model_digits.predict(x_test)\n",
        "\n",
        "for i in range(10):\n",
        "  compareinout(i, output_image, x_test)"
      ],
      "execution_count": null,
      "outputs": [
        {
          "output_type": "display_data",
          "data": {
            "image/png": "[encoded data removed]",
            "text/plain": [
              "<Figure size 720x360 with 2 Axes>"
            ]
          },
          "metadata": {
            "tags": [],
            "needs_background": "light"
          }
        },
        {
          "output_type": "display_data",
          "data": {
            "image/png": "[encoded data removed]",
            "text/plain": [
              "<Figure size 720x360 with 2 Axes>"
            ]
          },
          "metadata": {
            "tags": [],
            "needs_background": "light"
          }
        },
        {
          "output_type": "display_data",
          "data": {
            "image/png": "[encoded data removed]",
            "text/plain": [
              "<Figure size 720x360 with 2 Axes>"
            ]
          },
          "metadata": {
            "tags": [],
            "needs_background": "light"
          }
        },
        {
          "output_type": "display_data",
          "data": {
            "image/png": "[encoded data removed]",
            "text/plain": [
              "<Figure size 720x360 with 2 Axes>"
            ]
          },
          "metadata": {
            "tags": [],
            "needs_background": "light"
          }
        },
        {
          "output_type": "display_data",
          "data": {
            "image/png": "[encoded data removed]",
            "text/plain": [
              "<Figure size 720x360 with 2 Axes>"
            ]
          },
          "metadata": {
            "tags": [],
            "needs_background": "light"
          }
        },
        {
          "output_type": "display_data",
          "data": {
            "image/png": "[encoded data removed]",
            "text/plain": [
              "<Figure size 720x360 with 2 Axes>"
            ]
          },
          "metadata": {
            "tags": [],
            "needs_background": "light"
          }
        },
        {
          "output_type": "display_data",
          "data": {
            "image/png": "[encoded data removed]",
            "text/plain": [
              "<Figure size 720x360 with 2 Axes>"
            ]
          },
          "metadata": {
            "tags": [],
            "needs_background": "light"
          }
        },
        {
          "output_type": "display_data",
          "data": {
            "image/png": "[encoded data removed]",
            "text/plain": [
              "<Figure size 720x360 with 2 Axes>"
            ]
          },
          "metadata": {
            "tags": [],
            "needs_background": "light"
          }
        },
        {
          "output_type": "display_data",
          "data": {
            "image/png": "[encoded data removed]",
            "text/plain": [
              "<Figure size 720x360 with 2 Axes>"
            ]
          },
          "metadata": {
            "tags": [],
            "needs_background": "light"
          }
        },
        {
          "output_type": "display_data",
          "data": {
            "image/png": "[encoded data removed]",
            "text/plain": [
              "<Figure size 720x360 with 2 Axes>"
            ]
          },
          "metadata": {
            "tags": [],
            "needs_background": "light"
          }
        }
      ]
    },
    {
      "cell_type": "markdown",
      "metadata": {
        "id": "L_tHRpkkP1y8"
      },
      "source": [
        "The result is not bad! The decoder can recreate the image from only 16 numbers!"
      ]
    },
    {
      "cell_type": "markdown",
      "metadata": {
        "id": "CNcgMuEWd_m-"
      },
      "source": [
        "# Extract feature"
      ]
    },
    {
      "cell_type": "code",
      "metadata": {
        "id": "yHA4zE6xmacQ",
        "colab": {
          "base_uri": "https://localhost:8080/",
          "height": 87
        },
        "outputId": "1b7f7451-acb0-4b19-fd16-450a7a515465"
      },
      "source": [
        "from keras import backend as K\n",
        "# input placeholder\n",
        "inp = model_digits.input                   \n",
        "# extract the bottle neck outputs\n",
        "outputs = model_digits.layers[3].output     \n",
        "# create a function to evaluate the output of the bottle neck layer for a given input\n",
        "functors = K.function([inp], [outputs])    \n",
        "\n",
        "# Testing\n",
        "layer_outs = functors(x_test[:1])\n",
        "pl.imshow(layer_outs[0]);"
      ],
      "execution_count": null,
      "outputs": [
        {
          "output_type": "display_data",
          "data": {
            "image/png": "[encoded data removed]",
            "text/plain": [
              "<Figure size 720x360 with 1 Axes>"
            ]
          },
          "metadata": {
            "tags": [],
            "needs_background": "light"
          }
        }
      ]
    },
    {
      "cell_type": "markdown",
      "metadata": {
        "id": "pR-aIb-XQQhY"
      },
      "source": [
        "This is the reducted representation of the first image in the test sample: a 16-values representation of the NxN pixel image"
      ]
    },
    {
      "cell_type": "code",
      "metadata": {
        "id": "QoT7vdpjWfk8"
      },
      "source": [
        "def compareinout_encoded(i, outim, testimg, initialshape=(28,28)):\n",
        "  fig = pl.figure(figsize(10,5))\n",
        "  ax = fig.add_subplot(131) \n",
        "  ax.imshow(testimg[i].reshape(initialshape) , cmap=\"bone\")\n",
        "  ax.get_xaxis().set_visible(False)\n",
        "  ax.get_yaxis().set_visible(False)\n",
        "  ax = fig.add_subplot(132)\n",
        "  pl.imshow(functors(testimg[i:i+1])[0])\n",
        "  pl.yticks([])\n",
        "  ax = fig.add_subplot(133) \n",
        "  ax.imshow(outim[i].reshape(initialshape) , cmap=\"bone\")\n",
        "  ax.get_xaxis().set_visible(False)\n",
        "  ax.get_yaxis().set_visible(False)\n"
      ],
      "execution_count": null,
      "outputs": []
    },
    {
      "cell_type": "code",
      "metadata": {
        "id": "HvFp8cTbcdKa",
        "colab": {
          "base_uri": "https://localhost:8080/",
          "height": 1000
        },
        "outputId": "60e6664b-09ae-4261-ba51-706bc7b11381"
      },
      "source": [
        "for i in range(10):\n",
        "  compareinout_encoded(i, output_image, x_test)"
      ],
      "execution_count": null,
      "outputs": [
        {
          "output_type": "display_data",
          "data": {
            "image/png": "[encoded data removed]",
            "text/plain": [
              "<Figure size 720x360 with 3 Axes>"
            ]
          },
          "metadata": {
            "tags": [],
            "needs_background": "light"
          }
        },
        {
          "output_type": "display_data",
          "data": {
            "image/png": "[encoded data removed]",
            "text/plain": [
              "<Figure size 720x360 with 3 Axes>"
            ]
          },
          "metadata": {
            "tags": [],
            "needs_background": "light"
          }
        },
        {
          "output_type": "display_data",
          "data": {
            "image/png": "[encoded data removed]",
            "text/plain": [
              "<Figure size 720x360 with 3 Axes>"
            ]
          },
          "metadata": {
            "tags": [],
            "needs_background": "light"
          }
        },
        {
          "output_type": "display_data",
          "data": {
            "image/png": "[encoded data removed]",
            "text/plain": [
              "<Figure size 720x360 with 3 Axes>"
            ]
          },
          "metadata": {
            "tags": [],
            "needs_background": "light"
          }
        },
        {
          "output_type": "display_data",
          "data": {
            "image/png": "[encoded data removed]",
            "text/plain": [
              "<Figure size 720x360 with 3 Axes>"
            ]
          },
          "metadata": {
            "tags": [],
            "needs_background": "light"
          }
        },
        {
          "output_type": "display_data",
          "data": {
            "image/png": "[encoded data removed]",
            "text/plain": [
              "<Figure size 720x360 with 3 Axes>"
            ]
          },
          "metadata": {
            "tags": [],
            "needs_background": "light"
          }
        },
        {
          "output_type": "display_data",
          "data": {
            "image/png": "[encoded data removed]",
            "text/plain": [
              "<Figure size 720x360 with 3 Axes>"
            ]
          },
          "metadata": {
            "tags": [],
            "needs_background": "light"
          }
        },
        {
          "output_type": "display_data",
          "data": {
            "image/png": "[encoded data removed]",
            "text/plain": [
              "<Figure size 720x360 with 3 Axes>"
            ]
          },
          "metadata": {
            "tags": [],
            "needs_background": "light"
          }
        },
        {
          "output_type": "display_data",
          "data": {
            "image/png": "[encoded data removed]",
            "text/plain": [
              "<Figure size 720x360 with 3 Axes>"
            ]
          },
          "metadata": {
            "tags": [],
            "needs_background": "light"
          }
        },
        {
          "output_type": "display_data",
          "data": {
            "image/png": "[encoded data removed]",
            "text/plain": [
              "<Figure size 720x360 with 3 Axes>"
            ]
          },
          "metadata": {
            "tags": [],
            "needs_background": "light"
          }
        }
      ]
    },
    {
      "cell_type": "markdown",
      "metadata": {
        "id": "ivBrwoxqddZv"
      },
      "source": [
        "*left*: original image\n",
        "\n",
        "*center*: compressed representation\n",
        "\n",
        "right: predicted image"
      ]
    },
    {
      "cell_type": "code",
      "metadata": {
        "id": "GODceYH0DzfK"
      },
      "source": [
        ""
      ],
      "execution_count": null,
      "outputs": []
    }
  ]
}